{
  "nbformat": 4,
  "nbformat_minor": 0,
  "metadata": {
    "colab": {
      "provenance": [],
      "authorship_tag": "ABX9TyMcu4QAVEUrdqbXJxP3oPVR"
    },
    "kernelspec": {
      "name": "python3",
      "display_name": "Python 3"
    },
    "language_info": {
      "name": "python"
    }
  },
  "cells": [
    {
      "cell_type": "markdown",
      "source": [
        "# [OSS Git] #9 커밋과 로그 이력. 과거 여행\n",
        "### ■ 저장소 생성\n",
        "##### • $ git init basic\n",
        "### ■ 깃 저장소에 저장\n",
        "##### • $ git add, commit\n",
        "### ■ 모두 커밋 이력 보기\n",
        "##### • $ git log\n",
        "###### ▸ --oneline --graph --all -n\n",
        "### ■ 측정한 커밋 이력 보기\n",
        "##### • $ git show [HEAD]\n",
        "###### ▸ --oneline\n",
        "### ■ 바로 이전 버전으로 가기\n",
        "##### • $ git checkout HEAD~\n",
        "### ■ 다시 최신 버전으로 돌아오기\n",
        "##### • $ git checkout main\n",
        "### ■ 다시 checkout 이전으로 돌아오기\n",
        "##### • $ git checkout -\n"
      ],
      "metadata": {
        "id": "E2IRUW6cHFr7"
      }
    }
  ]
}