{
  "nbformat": 4,
  "nbformat_minor": 0,
  "metadata": {
    "colab": {
      "provenance": [],
      "authorship_tag": "ABX9TyPP8mZudySRwl/Z37qkIbU4"
    },
    "kernelspec": {
      "name": "python3",
      "display_name": "Python 3"
    },
    "language_info": {
      "name": "python"
    }
  },
  "cells": [
    {
      "cell_type": "markdown",
      "source": [
        "# [OSS Git] #5 깃 설정과 저장소 생성\n",
        "### ■ 깃 설정 명령 구조\n",
        "##### • $ git config --설정범위 설정변수 설정값\n",
        "##### • 설정 범위\n",
        "###### - [--system I --global I --local]\n",
        "##### • --global 인 경우 설정 파일\n",
        "###### - C:￦Users￦[사용자-계정]￦.gitconfig\n",
        "### ■ 지역 저장소 생성 전 다음 설정 반드시 수행\n",
        "##### • 사용자 설정\n",
        "###### - $git config --global user.name hskang\n",
        "###### - $git config --global user.email hsakng@gmail.com\n",
        "##### • 맥(If)과 윈도(crlf) 간의 자동 변환\n",
        "###### - $git config --global core.autocrlf true\n",
        "##### • 뉴라인 경고 발생 없애기(옵션)\n",
        "###### - $git config --global core.safecrlf false\n",
        "##### • 기본 편집기 설정\n",
        "###### - $git config --global core.editor 'code --wait'\n",
        "##### • 깃 저장소 기본 브랜치 이름 설정\n",
        "###### - $git config --global init.defaultBranch main\n",
        "### ■ git repository 생성 방법\n",
        "##### • $git init\n",
        "##### • $git init\n",
        "###### - 현재 디렉토리를 git repository로 만들기 위해서 사용\n",
        "##### • $ git init basic\n",
        "###### - 현재 폴더 하부에 폴더 basic을 생성하고 git repository로 만들기 위해서 사용\n"
      ],
      "metadata": {
        "id": "E2IRUW6cHFr7"
      }
    }
  ]
}