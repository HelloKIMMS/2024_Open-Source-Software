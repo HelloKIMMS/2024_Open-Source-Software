{
  "nbformat": 4,
  "nbformat_minor": 0,
  "metadata": {
    "colab": {
      "provenance": [],
      "authorship_tag": "ABX9TyMVHFmcHPdu1k9zpHJ7WqZD"
    },
    "kernelspec": {
      "name": "python3",
      "display_name": "Python 3"
    },
    "language_info": {
      "name": "python"
    }
  },
  "cells": [
    {
      "cell_type": "markdown",
      "source": [
        "# [OSS Git] #2 버전관리 개요\n",
        "### ■ 버전관리의 정의\n",
        "##### • 시간 흐름에 따라 파일 집합에 대한 변경 사항을 추적, 관리\n",
        "### ■ 버전관리의 필요성\n",
        "##### • 과거 지점의 버전으로 돌아가 누가, 무엇을 수정했는지 파악 가능\n",
        "### ■ 버전관리 도구의 인터페이스방식\n",
        "##### • CLI와 GUI\n",
        "###### - Git: CLI\n",
        "###### - 소스트리: GUI\n",
        "### ■ 커밋(commit)\n",
        "##### • 저장소의 현 상태를 저장하는 행위이자 깃 명령어\n",
        "### ■ HEAD\n",
        "##### • 가장 최근의 커밋을 가리키는 포인터\n",
        "### ■ 저장소(Git repository)\n",
        "##### • 파일이나 폴더, 버전관리를 위한 관련 파일을 저장해 두는 곳\n",
        "### ■ Push와 Pull"
         ![KakaoTalk_20241207_155341510](https://github.com/user-attachments/assets/20c9ab18-e73a-409a-9825-43519a20d2c3)
      ],
      "metadata": {
        "id": "E2IRUW6cHFr7"
      }
    }
  ]
}
