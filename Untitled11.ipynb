{
  "nbformat": 4,
  "nbformat_minor": 0,
  "metadata": {
    "colab": {
      "provenance": [],
      "authorship_tag": "ABX9TyOWShZRMhdPOTLVj9IB1INi"
    },
    "kernelspec": {
      "name": "python3",
      "display_name": "Python 3"
    },
    "language_info": {
      "name": "python"
    }
  },
  "cells": [
    {
      "cell_type": "markdown",
      "source": [
        "# [OSS Git] #1 교과목 강의 개요\n",
        "<br>\n",
        "\n",
        "### ■ 교과목 소개\n",
        "##### • 오픈소스소프트웨어\n",
        "##### • 깃과 깃허브\n",
        "### ■ 교과목 개요\n",
        "##### • 오픈소스 소프트웨어 개발에 필요한 버전 관리기법과 협업 기술을 학습\n",
        "### ■ 깃허브 개요\n",
        "##### • 마이크로소프트 소유\n",
        "##### • 현재 가장 인기있는 버전관리 저장소 호스팅 서비스\n",
        "### ■ 깃허브에서 개발하는 이유\n",
        "##### 1. 공개 및 비공개 프로젝트에 필요한 중요 개발운영(DevOps) 기능을 제공\n",
        "##### 2. 협업 시 전 세계 소프트웨어 개발자와 함께 작업이 가능\n"
      ],
      "metadata": {
        "id": "E2IRUW6cHFr7"
      }
    }
  ]
}