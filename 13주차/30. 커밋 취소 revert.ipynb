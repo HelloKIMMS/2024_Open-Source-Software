{
  "nbformat": 4,
  "nbformat_minor": 0,
  "metadata": {
    "colab": {
      "provenance": [],
      "authorship_tag": "ABX9TyOaD696PyXbpCywt8lEZJ1p"
    },
    "kernelspec": {
      "name": "python3",
      "display_name": "Python 3"
    },
    "language_info": {
      "name": "python"
    }
  },
  "cells": [
    {
      "cell_type": "markdown",
      "source": [
        "# [OSS Git] #30 커밋 취소 revert\n",
        "### ■ 취소 revert 전체 조건\n",
        "##### • Nothing to commit, working tree clean\n",
        "### ■ HEAD를 취소해 HEAD~ 상태로 가는 커밋을 생성\n",
        "##### • $ git revert HEAD\n",
        "##### • $ git revert HEAD --no-edit\n"
      ],
      "metadata": {
        "id": "1TV3gUyrTpvU"
      }
    }
  ]
}
