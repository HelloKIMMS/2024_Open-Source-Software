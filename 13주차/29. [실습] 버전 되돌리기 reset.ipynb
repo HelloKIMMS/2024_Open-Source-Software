{
  "nbformat": 4,
  "nbformat_minor": 0,
  "metadata": {
    "colab": {
      "provenance": [],
      "authorship_tag": "ABX9TyPKi0cCQGCEehPnPg1gthlX"
    },
    "kernelspec": {
      "name": "python3",
      "display_name": "Python 3"
    },
    "language_info": {
      "name": "python"
    }
  },
  "cells": [
    {
      "cell_type": "markdown",
      "source": [
        "# [OSS Git] #29 [실습] 버전 되돌리기 reset\n",
        "### ■ HEAD~2의 내용으로 작업 디렉토리와 스테이징 영역, 깃 저장소에 복사\n",
        "##### • $ git reset --hard HEAD~2\n",
        "### ■ HEAD~2의 내용으로 스테이징 영역과 깃 저장소에 복사\n",
        "##### • $ git reset --mixed HEAD~2\n",
        "### ■ HEAD~2의 내용으로 깃 저장소에 복사\n",
        "##### • $ git reset --soft HEAD~2\n",
        "### ■ 이전에 수행한 reset을 바로 취소하는 명령\n",
        "##### • $ git reset --hard ORIG_HEAD\n"
      ],
      "metadata": {
        "id": "1TV3gUyrTpvU"
      }
    }
  ]
}
