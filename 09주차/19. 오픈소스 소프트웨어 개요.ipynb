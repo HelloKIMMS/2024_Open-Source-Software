{
  "nbformat": 4,
  "nbformat_minor": 0,
  "metadata": {
    "colab": {
      "provenance": [],
      "authorship_tag": "ABX9TyM3+b9m9ue8IPPf33qsuCwv"
    },
    "kernelspec": {
      "name": "python3",
      "display_name": "Python 3"
    },
    "language_info": {
      "name": "python"
    }
  },
  "cells": [
    {
      "cell_type": "markdown",
      "source": [
        "# [OSS Git] #19 오픈소스 소프트웨어 개요\n",
        "### ■ $ 오픈소스 소프트웨어의 의미\n",
        "#### • 소프트웨어의 소스코드를 자유롭게 읽고, 수정 및 재배포가 가능\n",
        "### ■ 오픈소스 소프트웨어 개발을 지원하는 서버인 깃허브에서의 협업 방식\n",
        "#### • github, gitlab, bitbucket\n",
        "### ■ 대표적인 오픈소스 소프트웨어\n",
        "#### • 파이썬, 사이킷런, 파이토치, 텐서플로, MySql, 몽고DB 등\n",
        "### ■ 오픈소스 소프트웨어의 저작권을 이해할 수 있다.\n",
        "#### •의무 강도에 따른 분류\n",
        "##### - GPL, LGPL, Apache, BSD, MIT 순으로 의무 강도가 낮아짐"
      ],
      "metadata": {
        "id": "1TV3gUyrTpvU"
      }
    }
  ]
}
