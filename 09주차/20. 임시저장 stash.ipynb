{
  "nbformat": 4,
  "nbformat_minor": 0,
  "metadata": {
    "colab": {
      "provenance": [],
      "authorship_tag": "ABX9TyNs9lWTTJVU2emE7SmQCADh"
    },
    "kernelspec": {
      "name": "python3",
      "display_name": "Python 3"
    },
    "language_info": {
      "name": "python"
    }
  },
  "cells": [
    {
      "cell_type": "markdown",
      "source": [
        "# [OSS Git] #20 임시저장 stash\n",
        "### ■ 작업 디렉토리와 스테이징 영역을 숨김(stash)에 저장하고 작업 폴더를 정리\n",
        "##### • $ git stash\n",
        "##### • $ git stash –m ‘메시지’\n",
        "##### • $ git stash save\n",
        "##### • $ git stash save ‘메시지’\n",
        "### ■ 최근 또는 지정된 임시저장소 내용을 가져와 반영하고 삭제\n",
        "##### • $ git stash pop\n",
        "##### • $ git stash pop stash@{n}\n",
        "### ■ 최근 또는 지정된 임시저장소 내용을 가져와 반영, 작업 디렉토리만 반영,\n",
        "###  ㅤstash 목록은 그대로\n",
        "##### • $ git stash apply\n",
        "##### • $ git stash apply stash@{n}\n",
        "### ■ 최근 또는 지정된 임시저장소 내용을 가져와 반영, 작업 디렉토리와\n",
        "###  ㅤ스테이징 영역도 반영, stash 목록은 그대로\n",
        "##### • $ git stash apply --index\n",
        "##### • $ git stash apply --index stash@{n}\n",
        "### ■ 임시저장 목록 보기\n",
        "##### • $ git stash list\n",
        "### ■ 커밋 자료와 최신 stash 항목 간의 차이로 표시\n",
        "##### • $ git stash show\n",
        "##### • $ git stash show –p\n",
        "### ■ 커밋 자료와 해당 stash 항목 간의 차이로 표시\n",
        "##### • $ git stash show stash@{n}\n",
        "##### • $ git stash show stash@{n} -p\n",
        "### ■ 최근 임시저장 내용을 삭제\n",
        "##### • $ git stash drop\n",
        "### ■ 지정된 임시저장 내용을 삭제\n",
        "##### • $ git stash drop stash@{n}\n",
        "### ■ 모든 stash 목록을 모두 제거\n",
        "##### • $ git stash clear"
      ],
      "metadata": {
        "id": "1TV3gUyrTpvU"
      }
    }
  ]
}
