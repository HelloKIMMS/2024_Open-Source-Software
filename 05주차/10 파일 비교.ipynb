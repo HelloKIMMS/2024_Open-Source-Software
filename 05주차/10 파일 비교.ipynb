{
  "nbformat": 4,
  "nbformat_minor": 0,
  "metadata": {
    "colab": {
      "provenance": [],
      "authorship_tag": "ABX9TyNnf7TOpG5Ph5AArkbKcRGW"
    },
    "kernelspec": {
      "name": "python3",
      "display_name": "Python 3"
    },
    "language_info": {
      "name": "python"
    }
  },
  "cells": [
    {
      "cell_type": "markdown",
      "source": [
        "# [OSS Git] #10 파일 비교\n",
        "### ■ 스테이징 영역 기준으로 작업 디렉토리 파일 비교\n",
        "##### • $ git diff\n",
        "### ■ 깃 저장소 기준으로 스테이징 영역 파일 비교\n",
        "##### • $ git diff --staged HEAD\n",
        "##### • git diff --staged HEAD~\n",
        "### ■ 깃 저장소 기준으로 작업 디렉토리 파일 비교\n",
        "##### • $ git diff HEAD\n",
        "##### • $ git diff HEAD~\n",
        "### ■ 커밋 간의 파일 비교\n",
        "##### • git diff [비교할commit해쉬1] [비교할commit해쉬2]\n",
        "######- ex) git diff 048171 0c747d\n",
        "######- ex) git diff HEAD^ HEAD\n"
      ],
      "metadata": {
        "id": "1TV3gUyrTpvU"
      }
    }
  ]
}
