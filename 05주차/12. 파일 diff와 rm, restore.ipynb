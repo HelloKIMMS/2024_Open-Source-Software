{
  "nbformat": 4,
  "nbformat_minor": 0,
  "metadata": {
    "colab": {
      "provenance": [],
      "authorship_tag": "ABX9TyNxDdexdqUiF9OrsnatQiQG"
    },
    "kernelspec": {
      "name": "python3",
      "display_name": "Python 3"
    },
    "language_info": {
      "name": "python"
    }
  },
  "cells": [
    {
      "cell_type": "markdown",
      "source": [
        "# [OSS Git] #12 파일 diff와 rm, restore\n",
        "### ■ 스테이징 영역 기준으로 작업 디렉토리 파일 비교\n",
        "##### • $ git diff\n",
        "### ■ 깃 저장소 기준으로 스테이징 영역 파일 비교\n",
        "##### • $ git diff --staged HEAD\n",
        "### ■ 깃 저장소 기준으로 작업 디렉토리 파일 비교\n",
        "##### • $ git diff HEAD\n",
        "### ■ 파일 삭제\n",
        "##### • $ git rm f\n",
        "##### • $ git rm --cached f\n",
        "### ■ 파일 복구\n",
        "##### • $ git restore f\n",
        "##### • $ git restore --staged f\n",
        "##### • $ git restore --source=HEAD --worktree f\n",
        "##### • $ git restore --source=HEAD --staged --worktree f\n",
        "\n"
      ],
      "metadata": {
        "id": "1TV3gUyrTpvU"
      }
    }
  ]
}
