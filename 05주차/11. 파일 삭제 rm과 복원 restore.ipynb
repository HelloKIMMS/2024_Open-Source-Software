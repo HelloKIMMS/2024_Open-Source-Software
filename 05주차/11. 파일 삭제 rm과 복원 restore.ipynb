{
  "nbformat": 4,
  "nbformat_minor": 0,
  "metadata": {
    "colab": {
      "provenance": [],
      "authorship_tag": "ABX9TyOXsFo5oSjQ5ail01m1Qgez"
    },
    "kernelspec": {
      "name": "python3",
      "display_name": "Python 3"
    },
    "language_info": {
      "name": "python"
    }
  },
  "cells": [
    {
      "cell_type": "markdown",
      "source": [
        "# [OSS Git] #11 파일 삭제 rm과 복원 restore\n",
        "### ■ 작업 디렉토리에서 파일 삭제\n",
        "##### • $ rm f\n",
        "### ■ 작업 디렉토리와 스테이징 영역에서 파일 삭제\n",
        "##### • $ git rm f\n",
        "### ■ 스테이징 영역에서만 파일 삭제\n",
        "#####  • $git rm --cached f\n",
        "### ■ 스테이징 영역의 상태를 작업 디렉토리에 복원\n",
        "#####  • $ git restore f\n",
        "### ■ 깃 저장소 상태를 스테이징 영역에 복원\n",
        "##### • $ git restore --staged f\n",
        "### ■ 깃 저장소 상태를 작업 디렉토리에 복원\n",
        "##### • $ git restore --source=HEAD --worktree f\n",
        "##### • $ git restore --source=HEADf\n",
        "### ■ 깃 저장소 상태를 스테이징 영역과 작업 디렉토리에 함께 복원\n",
        "##### • $git restore --source=HEAD --staged --worktree f\n",
        "\n"
      ],
      "metadata": {
        "id": "1TV3gUyrTpvU"
      }
    }
  ]
}
