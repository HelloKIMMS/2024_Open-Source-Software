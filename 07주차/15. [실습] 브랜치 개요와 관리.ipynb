{
  "nbformat": 4,
  "nbformat_minor": 0,
  "metadata": {
    "colab": {
      "provenance": [],
      "authorship_tag": "ABX9TyMv7Je+BPdaJ4771uSH/foO"
    },
    "kernelspec": {
      "name": "python3",
      "display_name": "Python 3"
    },
    "language_info": {
      "name": "python"
    }
  },
  "cells": [
    {
      "cell_type": "markdown",
      "source": [
        "# [OSS Git] #15 [실습] 브랜치 개요와 관리\n",
        "### ■ $ git branch\n",
        "##### • 저장소 목록 보기\n",
        "### ■ $ git branch <new-branch> \n",
        "##### • 저장소 생성만\n",
        "### ■ $ git checkout -b <new-branch> \n",
        "##### • 저장소 생성하고 이동\n",
        "### ■ $ git switch –c <new-branch> \n",
        "##### • 저장소 생성하고 이동\n",
        "### ■ $ git branch –d branch-name\n",
        "##### • 저장소 삭제\n",
        "### ■ $ git branch –D branch-name\n",
        "##### • 저장소 삭제, 강제 삭제"
      ],
      "metadata": {
        "id": "1TV3gUyrTpvU"
      }
    }
  ]
}
