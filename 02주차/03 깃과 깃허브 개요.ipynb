{
  "nbformat": 4,
  "nbformat_minor": 0,
  "metadata": {
    "colab": {
      "provenance": [],
      "authorship_tag": "ABX9TyPpIDaDlYEgKBIGElsTertN"
    },
    "kernelspec": {
      "name": "python3",
      "display_name": "Python 3"
    },
    "language_info": {
      "name": "python"
    }
  },
  "cells": [
    {
      "cell_type": "markdown",
      "source": [
        "# [OSS Git] #3 깃과 깃허브 개요\n",
        "### ■ Git\n",
        "##### • a version control system to keep track of changes to files and projects over time\n",
        "### ■ Github\n",
        "##### • A website that hosts Git repositories online, making it easier for developers to share code\n",
        "### ■ Repositories(or repo)\n",
        "##### • Folders which contain intentional snapshots of progress called commits\n",
        "### ■ 깃설치\n",
        "##### • Git Bash, Git GUI\n",
        "### ■ 깃 저장소 구조\n",
        "##### • Working directory\n",
        "###### - Working folder, Working tree, Work space\n",
        "##### • Staging area\n",
        "##### • Git Repository\n",
        "##### • Stash\n",
        "### ■ Add 명령\n",
        "##### • Working directory → Staging Area 이동\n",
        "### ■ Commit 명령\n",
        "##### • Staging Area → Git repository 이동\n",
        "### ■ 브랜치\n",
        "##### • 버전 관리를 수행하던 일련의 파일 집합을 통째로 복사해 독립적으로\n",
        "##### 다시 개발을 진행하는 개념\n",
        "### ■ Github\n",
        "##### • 버전 관리를 위한 서버 저장소 및 프로젝트 개발을 위한 협업 관리 서비스\n",
        "### ■ 깃 + 깃허브 == Open Source Software II Software Development\n",
        "##### • 깃과 깃허브를 통해 오픈소스 소프트웨어를 개발\n"
      ],
      "metadata": {
        "id": "E2IRUW6cHFr7"
      }
    }
  ]
}
