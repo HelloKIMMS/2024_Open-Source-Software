{
  "nbformat": 4,
  "nbformat_minor": 0,
  "metadata": {
    "colab": {
      "provenance": [],
      "authorship_tag": "ABX9TyOELFQFn5uBPjeZLOfMP2hL"
    },
    "kernelspec": {
      "name": "python3",
      "display_name": "Python 3"
    },
    "language_info": {
      "name": "python"
    }
  },
  "cells": [
    {
      "cell_type": "markdown",
      "source": [
        "# [OSS Git] #20 [실습] 임시저장 stash\n",
        "### ■ 작업 디렉토리와 스테이징 영역을 숨김(stash)에 저장하고 작업 폴더를 정리\n",
        "##### • $ git stash\n",
        "##### • $ git stash –m ‘메시지’\n",
        "##### • $ git stash save\n",
        "##### • $ git stash save ‘메시지’\n",
        "### ■ 최근 또는 지정된 임시 저장소 내용을 가져와 반영하고 삭제\n",
        "##### • $ git stash pop\n",
        "##### • $ git stash pop stash@{n}\n",
        "### ■ 최근 또는 지정된 임시 저장소 내용을 가져와 반영, 작업 디렉토리에 반영\n",
        "###  ㅤstash 목록은 그대로\n",
        "##### • $ git stash apply\n",
        "##### • $ git stash apply stash@{n}\n",
        "### ■ 최근 또는 지정된 임시저장소 내용을 가져와 반영, 작업 디렉토리와\n",
        "###  ㅤ스테이징 영역도 반영, stash 목록은 그대로\n",
        "##### • $ git stash apply --index\n",
        "##### • $ git stash apply --index stash@{n}"
      ],
      "metadata": {
        "id": "1TV3gUyrTpvU"
      }
    }
  ]
}