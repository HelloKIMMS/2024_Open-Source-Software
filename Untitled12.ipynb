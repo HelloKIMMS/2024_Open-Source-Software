{
  "nbformat": 4,
  "nbformat_minor": 0,
  "metadata": {
    "colab": {
      "provenance": [],
      "authorship_tag": "ABX9TyNtG0afgKEOvoP5epAJUdu2"
    },
    "kernelspec": {
      "name": "python3",
      "display_name": "Python 3"
    },
    "language_info": {
      "name": "python"
    }
  },
  "cells": [
    {
      "cell_type": "markdown",
      "source": [
        "# [OSS Git] #13 버전과 태그 활용\n",
        "### ■ Semantic Versioning 방식\n",
        "##### • 3.34.5\n",
        "###### - Major.minor.patch\n",
        "### ■ 태그 생성\n",
        "##### • $ git tag v1.0.1\n",
        "##### • $ git tag –a v1.0.1 –m ‘msg’\n",
        "### ■ 태그 자세한 정보 확인\n",
        "##### • $ git show v1.0.1\n",
        "### ■ 태그 목록 확인\n",
        "##### • $ git tag\n",
        "### ■ 태그 삭제\n",
        "##### • $ git tag –d v1.0.1\n"
      ],
      "metadata": {
        "id": "1TV3gUyrTpvU"
      }
    }
  ]
}