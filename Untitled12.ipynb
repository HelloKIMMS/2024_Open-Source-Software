{
  "nbformat": 4,
  "nbformat_minor": 0,
  "metadata": {
    "colab": {
      "provenance": [],
      "authorship_tag": "ABX9TyPNOVnI6RkcQMGnl4xJRO5Q"
    },
    "kernelspec": {
      "name": "python3",
      "display_name": "Python 3"
    },
    "language_info": {
      "name": "python"
    }
  },
  "cells": [
    {
      "cell_type": "markdown",
      "source": [
        "# [OSS Git] #17 지역과 원격 저장소 연동 push pull\n",
        "### ■ 원격 저장소 복제 연동\n",
        "##### • $ git clone https://github.com/atom/atom.git\n",
        "### ■ 원격 저장소 수정 사항 pull로 지역 저장소로 가져오기\n",
        "##### • $ git pull origin main\n",
        "##### • $ git pull\n",
        "### ■ 원격 저장소 수정 사항 fetch로 지역 저장소로 가져와 병합하기\n",
        "##### • $ git fetch origin main\n",
        "##### • $ git fetch\n",
        "##### • $ git merge origin/main\n",
        "### ■ 지역 저장소 수정 사항 push로 원격저장소 보내기\n",
        "##### • $ git push origin main\n",
        "##### • $ git push"
      ],
      "metadata": {
        "id": "1TV3gUyrTpvU"
      }
    }
  ]
}