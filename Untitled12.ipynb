{
  "nbformat": 4,
  "nbformat_minor": 0,
  "metadata": {
    "colab": {
      "provenance": [],
      "authorship_tag": "ABX9TyNeBdXgt3+quGMA0bHILeTI"
    },
    "kernelspec": {
      "name": "python3",
      "display_name": "Python 3"
    },
    "language_info": {
      "name": "python"
    }
  },
  "cells": [
    {
      "cell_type": "markdown",
      "source": [
        "# [OSS Git] #25 브랜치 리베이스 rebase\n",
        "### ■ 기준 브랜치에서 main 브랜치 rebase 병합\n",
        "##### • $ git checkout topic\n",
        "##### • $ git merge main\n",
        "### ■ 다시 main을 돌아와 fast-forward 병합 진행\n",
        "##### • $ git checkout main\n",
        "##### • $ git merge topic\n",
        "<left>\n",
        "<img src='https://img1.daumcdn.net/thumb/R1280x0/?scode=mtistory2&fname=https%3A%2F%2Fblog.kakaocdn.net%2Fdn%2FcofZo0%2FbtqBkOJybm6%2FRshCv0OqsydpuNCRPcIxu1%2Fimg.png'\n",
        "width=\"500\"\n",
        "height=\"300\" /><br>\n",
        "        </left>"
      ],
      "metadata": {
        "id": "1TV3gUyrTpvU"
      }
    }
  ]
}