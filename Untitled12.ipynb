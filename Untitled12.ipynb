{
  "nbformat": 4,
  "nbformat_minor": 0,
  "metadata": {
    "colab": {
      "provenance": [],
      "authorship_tag": "ABX9TyMbkMLjDQyf/vfajirZYqS8",
      "include_colab_link": true
    },
    "kernelspec": {
      "name": "python3",
      "display_name": "Python 3"
    },
    "language_info": {
      "name": "python"
    }
  },
  "cells": [
    {
      "cell_type": "markdown",
      "metadata": {
        "id": "view-in-github",
        "colab_type": "text"
      },
      "source": [
        "<a href=\"https://colab.research.google.com/github/HelloKIMMS/2024_Open-Source-Software/blob/main/Untitled12.ipynb\" target=\"_parent\"><img src=\"https://colab.research.google.com/assets/colab-badge.svg\" alt=\"Open In Colab\"/></a>"
      ]
    },
    {
      "cell_type": "markdown",
      "source": [
        "# [OSS Git] #22 다양한 브랜치 병합\n",
        "### ■ 기준 브랜치에서 hotfix 브랜치 병합\n",
        "##### • $ git merge hotfix\n",
        "###### ‣ fast-forward, 3-way merge\n",
        "### ■ 무조건 3-way 병합 수행\n",
        "##### • $ git merge --no-ff hotfix\n",
        "### ■ fast-forward인 경우에만 병합 진행\n",
        "### • $ git merge --ff-only hotfix\n",
        "### ■ 현재 브랜치에서 커밋 하나만 생성해서 병합\n",
        "#### • $ git merge --squash hotfix"
      ],
      "metadata": {
        "id": "1TV3gUyrTpvU"
      }
    }
  ]
}
