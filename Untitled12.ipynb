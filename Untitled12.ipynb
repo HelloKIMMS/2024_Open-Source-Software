{
  "nbformat": 4,
  "nbformat_minor": 0,
  "metadata": {
    "colab": {
      "provenance": [],
      "authorship_tag": "ABX9TyOLuuPtFadq3KvLaHLURC5D"
    },
    "kernelspec": {
      "name": "python3",
      "display_name": "Python 3"
    },
    "language_info": {
      "name": "python"
    }
  },
  "cells": [
    {
      "cell_type": "markdown",
      "source": [
        "# [OSS Git] #24 병합 충돌과 해결\n",
        "### ■ 3-way 충돌 발생\n",
        "##### • $ git merge hotfix\n",
        "### ■ 충돌한 파일을 인지하고 파일 수정\n",
        "##### • $ code file\n",
        "### ■ 수정 후 다시 add, commit\n",
        "##### • $ git commit –am ‘msg’\n",
        "### ■ 충돌 이후 병합 취소\n",
        "##### • $ git merge --abort"
      ],
      "metadata": {
        "id": "1TV3gUyrTpvU"
      }
    }
  ]
}