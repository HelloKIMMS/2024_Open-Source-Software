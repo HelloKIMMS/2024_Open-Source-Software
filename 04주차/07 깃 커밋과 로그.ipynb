{
  "nbformat": 4,
  "nbformat_minor": 0,
  "metadata": {
    "colab": {
      "provenance": [],
      "authorship_tag": "ABX9TyMsgsjXwIOAgSvXtj2Mn9Cx"
    },
    "kernelspec": {
      "name": "python3",
      "display_name": "Python 3"
    },
    "language_info": {
      "name": "python"
    }
  },
  "cells": [
    {
      "cell_type": "markdown",
      "source": [
        "# [OSS Git] #7 깃 커밋과 로그\n",
        "### ■ 깃설정\n",
        "##### • $git config --global user.name \"ms kim\"\n",
        "##### • $git config --global user.email msmsme05@gmail.com\n",
        "##### • $git config --global core.autocrlf true\n",
        "##### • $git config --global core.safecrlf false\n",
        "### ■ 깃 저장소 생성과 버전관리 과정\n",
        "##### • $ git init basic\n",
        "##### • $ git add hello.txt\n",
        "##### • $ git commit -m A\n",
        "##### • $git status\n",
        "##### • $ git log --oneline\n",
        "##### • $ git show --oneline\n",
        "### ■ Git init basic\n",
        "### ■ Add, commit\n",
        "### ■ Status\n",
        "##### • 파일 처음 생성\n",
        "###### - Untracked file\n",
        "###### → 붉은 색 표시는 작업 디렉토리를 의미\n",
        "##### • 처음 add한 파일\n",
        "###### - A new file\n",
        "###### → 녹색 표시는 스테이징 영역을 의미\n",
        "##### • 다시 수정한 파일\n",
        "###### - Modified file\n",
        "###### → 붉은 색 표시는 작업 디렉토리를 의미\n",
        "###### → 스테이징 영역과 비교해서 작업 디렉토리의 파일이 수정된 것을 의미\n",
        "##### • 수정한 파일을 add\n",
        "###### - Modified file\n",
        "###### → 녹색 표시는 스테이징 영역을 의미\n",
        "###### → 최근 커밋과 비교해서 스테이징 영역의 파일이 수정된 것을 의미\n",
        "### ■ 모두 커밋 이력 보기\n",
        "##### • $ git log\n",
        "###### ㅤ▸ --oneline --graph --all -n\n",
        "### ■ 특정한 커밋 이력 보기\n",
        "##### • $ git show [HEAD]\n",
        "###### ㅤ▸ --oneline\n"
      ],
      "metadata": {
        "id": "E2IRUW6cHFr7"
      }
    }
  ]
}
