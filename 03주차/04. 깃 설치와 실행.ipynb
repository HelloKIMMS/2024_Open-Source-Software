{
  "nbformat": 4,
  "nbformat_minor": 0,
  "metadata": {
    "colab": {
      "provenance": [],
      "authorship_tag": "ABX9TyMJSdoPYKuHub5MRynT0Id5"
    },
    "kernelspec": {
      "name": "python3",
      "display_name": "Python 3"
    },
    "language_info": {
      "name": "python"
    }
  },
  "cells": [
    {
      "cell_type": "markdown",
      "source": [
        "# [OSS Git] #4 깃 설치와 실행\n",
        "### ■ 깃설치 다운로드\n",
        "##### • https://git-scm.com/downloads\n",
        "### ■ 깃설치\n",
        "##### • 파일\n",
        "###### - Git-2.39.0.2-64-bit.exe\n",
        "###### - 계속 다음으로 설치\n",
        "##### • 설치 성공\n",
        "###### - C:￦Program Files￦Git\n",
        "### ■ 깃 실행\n",
        "##### • 메뉴\n",
        "##### • 탐색기에서 메뉴\n",
        "##### • CLI 이해\n",
        "###### - $ git version\n",
        "###### - $ git --version\n"
      ],
      "metadata": {
        "id": "E2IRUW6cHFr7"
      }
    }
  ]
}
