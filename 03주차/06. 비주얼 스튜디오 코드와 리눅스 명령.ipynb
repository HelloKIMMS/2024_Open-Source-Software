{
  "nbformat": 4,
  "nbformat_minor": 0,
  "metadata": {
    "colab": {
      "provenance": [],
      "authorship_tag": "ABX9TyPD8bzt6b9Vb614vL51NArU"
    },
    "kernelspec": {
      "name": "python3",
      "display_name": "Python 3"
    },
    "language_info": {
      "name": "python"
    }
  },
  "cells": [
    {
      "cell_type": "markdown",
      "source": [
        "# [OSS Git] #6 비주얼 스튜디오 코드와 리눅스 명령\n",
        "### ■ Vscode 개요와 설치\n",
        "##### • 깃 버전관리와 파일 관리\n",
        "##### • 시스템 버전 설치 권장\n",
        "###### - 탐색기에서 파일 또는 디렉토리에서 바로 'vscode로 열기' 메뉴 체크\n",
        "##### •  활동바(툴바) 활용\n",
        "### ■ 리눅스 명령\n",
        "##### • 깃 CLI에서 함께 명령 사용\n",
        "###### - $ pwd\n",
        "###### - $ Is -al\n",
        "###### - $ touch a.txt\n",
        "###### - $ echo aaa > a.txt\n",
        "###### - $ cat a.txt\n",
        "\n"
      ],
      "metadata": {
        "id": "E2IRUW6cHFr7"
      }
    }
  ]
}
