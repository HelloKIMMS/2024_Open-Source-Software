{
  "nbformat": 4,
  "nbformat_minor": 0,
  "metadata": {
    "colab": {
      "provenance": [],
      "authorship_tag": "ABX9TyN0/tm6BK3ztlIXRhogP40T"
    },
    "kernelspec": {
      "name": "python3",
      "display_name": "Python 3"
    },
    "language_info": {
      "name": "python"
    }
  },
  "cells": [
    {
      "cell_type": "markdown",
      "source": [
        "# [OSS Git] #22 다양한 브랜치 병합\n",
        "### ■ 기준 브랜치에서 hotfix 브랜치 병합\n",
        "#### • $ git merge hotfix\n",
        "##### ‣ fast-forward, 3-way merge\n",
        "### ■ 무조건 3-way 병합 수행\n",
        "#### • $ git merge --no-ff hotfix\n",
        "### ■ fast-forward인 경우에만 병합 진행\n",
        "#### • $ git merge --ff-only hotfix\n",
        "### ■ 현재 브랜치에서 커밋 하나만 생성해서 병합\n",
        "#### • $ git merge --squash hotfix"
      ],
      "metadata": {
        "id": "1TV3gUyrTpvU"
      }
    }
  ]
}
