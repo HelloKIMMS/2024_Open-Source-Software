{
  "nbformat": 4,
  "nbformat_minor": 0,
  "metadata": {
    "colab": {
      "provenance": [],
      "authorship_tag": "ABX9TyNOirIWx55hWifuhXeSRA74"
    },
    "kernelspec": {
      "name": "python3",
      "display_name": "Python 3"
    },
    "language_info": {
      "name": "python"
    }
  },
  "cells": [
    {
      "cell_type": "markdown",
      "source": [
        "# [OSS Git] #16 원격 저장소 복제 clone\n",
        "### ■ 깃허브에 원격 저장소 생성\n",
        "##### • 저장소 목록 보기\n",
        "### ■ 원격 저장소 복제\n",
        "##### • $ git clone https://github.com/atom/atom.git\n",
        "##### • $ git clone https://github.com/atom/atom.git.\n",
        "##### • $ git clone https://github.com/atom/atom.git mytest\n",
        "### ■ 원격 저장소 관리\n",
        "##### • $ git remote -v\n",
        "##### • $ git remote show origin\n",
        "##### • $ git remote rename origin org\n",
        "##### • $ git remote rm org\n",
        "### ■ vscode로 원격 저장소 관리\n",
        "##### • Clone git repository 클릭"
      ],
      "metadata": {
        "id": "1TV3gUyrTpvU"
      }
    }
  ]
}
