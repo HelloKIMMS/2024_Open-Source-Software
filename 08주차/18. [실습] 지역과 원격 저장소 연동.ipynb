{
  "nbformat": 4,
  "nbformat_minor": 0,
  "metadata": {
    "colab": {
      "provenance": [],
      "authorship_tag": "ABX9TyOi/WaKOZpLbDV/8/xgAW+R"
    },
    "kernelspec": {
      "name": "python3",
      "display_name": "Python 3"
    },
    "language_info": {
      "name": "python"
    }
  },
  "cells": [
    {
      "cell_type": "markdown",
      "source": [
        "# [OSS Git] #18 [실습] 지역과 원격 저장소 연동\n",
        "### ■ 원격 저장소 복제 연동\n",
        "##### • $ git clone https://github.com/ai7dnn/repo-sync.git\n",
        "### ■ 원격 저장소 수정 사항 pull로 지역 저장소로 가져오기\n",
        "##### • $ git pull origin main\n",
        "##### • $ git pull\n",
        "### ■ 원격 저장소 수정 사항 fetch로 지역 저장소로 가져와 병합하기\n",
        "##### • $ git fetch origin main\n",
        "##### • $ git fetch\n",
        "##### • $ git merge origin/main\n",
        "### ■ 지역 저장소 수정 사항 push로 원격 저장소 보내기\n",
        "##### • $ git push origin main\n",
        "##### • $ git push"
      ],
      "metadata": {
        "id": "1TV3gUyrTpvU"
      }
    }
  ]
}
