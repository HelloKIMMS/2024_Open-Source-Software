{
  "nbformat": 4,
  "nbformat_minor": 0,
  "metadata": {
    "colab": {
      "provenance": [],
      "authorship_tag": "ABX9TyNBihRsKPSzj732ZfeHsSsc"
    },
    "kernelspec": {
      "name": "python3",
      "display_name": "Python 3"
    },
    "language_info": {
      "name": "python"
    }
  },
  "cells": [
    {
      "cell_type": "markdown",
      "source": [
        "# [OSS Git] #26 커밋 이력 수정\n",
        "### ■ 최신 커밋 메시지 수정\n",
        "##### • $ git commit --amend –m 'new message'\n",
        "### ■ 편집기로 최신 커밋 메시지 수정\n",
        "##### • $ git commit --amend\n",
        "### ■ 파일 수정 후 추가, 메시지 수정 없이 최신 커밋으로 수정\n",
        "##### • $ git commit --amend --no-edit\n",
        "### ■ 이전 커밋 HEAD~2..HEAD까지 각각의 커밋을 수정\n",
        "##### • $ git rebase --interactive HEAD~3\n",
        "##### • 주요 rebase –i 대화형 명령어\n",
        "###### - p(ick): 해당 커밋을 수정하지 않고 그대로 사용\n",
        "###### - r(eword): 개별 커밋 메시지를 다시 작성\n",
        "###### - s(quash): 계속된 이후 커밋을 이전 커밋에 결합\n",
        "###### - d(rop): 커밋 자체를 삭제\n"
      ],
      "metadata": {
        "id": "1TV3gUyrTpvU"
      }
    }
  ]
}
