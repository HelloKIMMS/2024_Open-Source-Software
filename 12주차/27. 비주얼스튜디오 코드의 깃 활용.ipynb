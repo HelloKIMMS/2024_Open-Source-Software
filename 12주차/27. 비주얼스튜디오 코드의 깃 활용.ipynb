{
  "nbformat": 4,
  "nbformat_minor": 0,
  "metadata": {
    "colab": {
      "provenance": [],
      "authorship_tag": "ABX9TyMEy2YZvrRxbiK+LL8bPsep"
    },
    "kernelspec": {
      "name": "python3",
      "display_name": "Python 3"
    },
    "language_info": {
      "name": "python"
    }
  },
  "cells": [
    {
      "cell_type": "markdown",
      "source": [
        "# [OSS Git] #27 비주얼스튜디오 코드의 깃 활용\n",
        "### ■ 비주얼스튜디오코드에서 깃 저장소를 생성하고 파일 생성\n",
        "##### • 탐색기 활동바, 버전 콘트롤 활동바\n",
        "### ■ 비주얼스튜디오코드에서 파일을 추가, 커밋\n",
        "##### • Changes, Staged Changes\n",
        "### ■ Changes, Staged Changes\n",
        "##### • 확장 Git Graph 설치와 활용\n",
        "### ■ 비주얼스튜디오코드에서 파일 비교 기능 수행\n",
        "##### • Changes, Staged Changes\n",
        "##### • Git Graph\n",
        "######ㅤ ‣  다음 하부의 파일을 클릭\n",
        "###### ㅤㅤ- Uncommitted changes\n",
        "###### ㅤㅤ- 각 커밋\n"
      ],
      "metadata": {
        "id": "1TV3gUyrTpvU"
      }
    }
  ]
}
