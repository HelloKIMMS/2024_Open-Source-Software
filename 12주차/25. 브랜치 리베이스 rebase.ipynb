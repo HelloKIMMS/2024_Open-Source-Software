{
  "nbformat": 4,
  "nbformat_minor": 0,
  "metadata": {
    "colab": {
      "provenance": [],
      "authorship_tag": "ABX9TyNub7jythDjCByu9vkik6sn"
    },
    "kernelspec": {
      "name": "python3",
      "display_name": "Python 3"
    },
    "language_info": {
      "name": "python"
    }
  },
  "cells": [
    {
      "cell_type": "markdown",
      "source": [
        "# [OSS Git] #25 브랜치 리베이스 rebase\n",
        "### ■ 기준 브랜치에서 main 브랜치 rebase 병합\n",
        "##### • $ git checkout topic\n",
        "##### • $ git merge main\n",
        "### ■ 다시 main을 돌아와 fast-forward 병합 진행\n",
        "##### • $ git checkout main\n",
        "##### • $ git merge topic"
      ],
      "metadata": {
        "id": "1TV3gUyrTpvU"
      }
    }
  ]
}
